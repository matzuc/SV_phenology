{
 "cells": [
  {
   "cell_type": "markdown",
   "metadata": {},
   "source": [
    "# DINEOF Preprocessing of data\n",
    "\n",
    "In this script we will:\n",
    "\n",
    "* Read initial data file\n",
    "* Create land-sea mask\n",
    "* Eliminate pixels/images that are too often cloudy\n",
    "* Create time variable\n",
    "* Write results to a new file to be used in DINEOF"
   ]
  },
  {
   "cell_type": "code",
   "execution_count": 1,
   "metadata": {},
   "outputs": [
    {
     "data": {
      "text/plain": [
       "coverage (generic function with 1 method)"
      ]
     },
     "metadata": {},
     "output_type": "display_data"
    }
   ],
   "source": [
    "#import Pkg; Pkg.add(\"Missings\")\n",
    "using NCDatasets\n",
    "#using PyPlot\n",
    "using Missings\n",
    "using Dates\n",
    "using Statistics\n",
    "include(\"/home/DINEOF/Scripts/Julia/dineof_scripts.jl\")"
   ]
  },
  {
   "cell_type": "code",
   "execution_count": 2,
   "metadata": {},
   "outputs": [
    {
     "data": {
      "text/plain": [
       "\"/mnt/d/Dropbox/R_projects/SV_phenology/R\""
      ]
     },
     "metadata": {},
     "output_type": "display_data"
    }
   ],
   "source": [
    "# print current directory\n",
    "pwd()"
   ]
  },
  {
   "cell_type": "code",
   "execution_count": 4,
   "metadata": {},
   "outputs": [
    {
     "data": {
      "text/plain": [
       "true"
      ]
     },
     "metadata": {},
     "output_type": "display_data"
    }
   ],
   "source": [
    "#We will download the data combining current directory with test_coarsened\\CHL_3M_coarsened.nc\"\n",
    "# path = pwd() * \"/data/test_coarsened/\"\n",
    "path = \"/home/DINEOF/\"\n",
    "filename = path * \"test_chl3daysPY.nc\";\n",
    "\n",
    "isfile(filename)\n"
   ]
  },
  {
   "cell_type": "code",
   "execution_count": 9,
   "metadata": {},
   "outputs": [
    {
     "name": "stdout",
     "output_type": "stream",
     "text": [
      "size(tmp) = (1056, 1248, 62)\n"
     ]
    }
   ],
   "source": [
    "#Reading Sentinel-3A  SST L3 data as downloaded from CMEMS site\n",
    "#ds = Dataset(\"METEOFRANCE-EUR-SST_L3MULTISENSOR_NRT-OBS_FULL_TIME_SERIE_1634307629210_adriatic_long.nc\");\n",
    "\n",
    "#A\n",
    "ds = Dataset(filename);\n",
    "\n",
    "tmp = nomissing(ds[\"CHL\"][:],NaN);\n",
    "sst  = tmp \n",
    "time = ds[\"time\"][:]; \n",
    "lat = ds[\"latitude\"][:];\n",
    "lon = ds[\"longitude\"][:];\n",
    "mask = ds[\"mask\"][:];\n",
    "\n",
    "\n",
    "#Size of SST dataset\n",
    "@show size(tmp)\n",
    "close(ds);"
   ]
  },
  {
   "cell_type": "code",
   "execution_count": 30,
   "metadata": {},
   "outputs": [
    {
     "name": "stdout",
     "output_type": "stream",
     "text": [
      "time[1] = 2010-03-21T00:00:00\n",
      "time[end] = 2010-09-20T00:00:00\n",
      "typeof(sst) = Array{Float32,3}\n",
      "lat[1] = 84.99479166666667\n"
     ]
    },
    {
     "data": {
      "text/plain": [
       "84.99479166666667"
      ]
     },
     "metadata": {},
     "output_type": "display_data"
    }
   ],
   "source": [
    "#Start and end dates of our dataset\n",
    "\n",
    "@show time[1]\n",
    "@show time[end];\n",
    "@show typeof(sst);\n",
    "@show lat[1]"
   ]
  },
  {
   "cell_type": "code",
   "execution_count": 24,
   "metadata": {},
   "outputs": [
    {
     "data": {
      "text/plain": [
       "62-element Array{DateTime,1}:\n",
       " 2010-03-21T00:00:00\n",
       " 2010-03-24T00:00:00\n",
       " 2010-03-27T00:00:00\n",
       " 2010-03-30T00:00:00\n",
       " 2010-04-02T00:00:00\n",
       " 2010-04-05T00:00:00\n",
       " 2010-04-08T00:00:00\n",
       " 2010-04-11T00:00:00\n",
       " 2010-04-14T00:00:00\n",
       " 2010-04-17T00:00:00\n",
       " ⋮\n",
       " 2010-08-27T00:00:00\n",
       " 2010-08-30T00:00:00\n",
       " 2010-09-02T00:00:00\n",
       " 2010-09-05T00:00:00\n",
       " 2010-09-08T00:00:00\n",
       " 2010-09-11T00:00:00\n",
       " 2010-09-14T00:00:00\n",
       " 2010-09-17T00:00:00\n",
       " 2010-09-20T00:00:00"
      ]
     },
     "metadata": {},
     "output_type": "display_data"
    }
   ],
   "source": [
    "time"
   ]
  },
  {
   "cell_type": "code",
   "execution_count": 25,
   "metadata": {},
   "outputs": [
    {
     "data": {
      "text/plain": [
       "62-element Array{Float64,1}:\n",
       " -2478.0\n",
       " -2475.0\n",
       " -2472.0\n",
       " -2469.0\n",
       " -2466.0\n",
       " -2463.0\n",
       " -2460.0\n",
       " -2457.0\n",
       " -2454.0\n",
       " -2451.0\n",
       "     ⋮\n",
       " -2319.0\n",
       " -2316.0\n",
       " -2313.0\n",
       " -2310.0\n",
       " -2307.0\n",
       " -2304.0\n",
       " -2301.0\n",
       " -2298.0\n",
       " -2295.0"
      ]
     },
     "metadata": {},
     "output_type": "display_data"
    }
   ],
   "source": [
    "# convert time in days since 2017-01-01 00:00:00 (is a )\n",
    "\n",
    "# Define the base date\n",
    "base_date = DateTime(2017, 1, 1)\n",
    "\n",
    "# Convert the DateTime array into a Float64 array representing days since the base date\n",
    "time_in_days = Float64.([(t - base_date) / Millisecond(1) / 1000 / 60 / 60 / 24 for t in time])\n",
    "time_in_days"
   ]
  },
  {
   "cell_type": "code",
   "execution_count": 13,
   "metadata": {},
   "outputs": [
    {
     "name": "stdout",
     "output_type": "stream",
     "text": [
      "Average amount of missing data in your dataset: 80.01961609463166 %\n"
     ]
    }
   ],
   "source": [
    "#transform time variable (in miliseconds) into year-day \n",
    "mdate = time\n",
    "\n",
    "#create a first land-sea mask. This mask will be \"refined\" by eliminating pixels that are \n",
    "# covered more than 98% of the time and images that are covered more than 98% in space\n",
    "#mask = nanmean(sst,3);\n",
    "#mask[.!isnan.(mask)].=1;\n",
    "#mask[isnan.(mask)].=0;\n",
    "\n",
    "covT = coverage(sst,mask,\"tm\"); #calculate average % of missing data in time\n",
    "\n",
    "#Visualise % of missing data in time\n",
    "\n",
    "println(\"Average amount of missing data in your dataset: $(mean(covT)) %\");"
   ]
  },
  {
   "cell_type": "code",
   "execution_count": 15,
   "metadata": {},
   "outputs": [
    {
     "name": "stdout",
     "output_type": "stream",
     "text": [
      "size(sst) = (1056, 1248, 62)\n",
      "size(sstb) = (1056, 1248, 61)\n"
     ]
    }
   ],
   "source": [
    "#There are images with almost no data. We will eliminate those\n",
    "\n",
    "i=findall(covT.<98); #identify images with more than 95% of missing data\n",
    "sstb = sst[:,:,i]; #remove those images\n",
    "mdateb = mdate[i]; #remove those dates from the time vector\n",
    "\n",
    "#old and new temporal size of the SST matrix\n",
    "@show(size(sst))\n",
    "@show size(sstb);"
   ]
  },
  {
   "cell_type": "markdown",
   "metadata": {},
   "source": [
    "The regions most affected by missing data are the coastal ones, especially along the Croatian coast due to the large amount of islands."
   ]
  },
  {
   "cell_type": "code",
   "execution_count": 27,
   "metadata": {},
   "outputs": [
    {
     "data": {
      "text/plain": [
       "closed NetCDF NCDataset"
      ]
     },
     "metadata": {},
     "output_type": "display_data"
    }
   ],
   "source": [
    "close(output)"
   ]
  },
  {
   "cell_type": "code",
   "execution_count": 28,
   "metadata": {},
   "outputs": [
    {
     "data": {
      "text/plain": [
       "closed NetCDF NCDataset"
      ]
     },
     "metadata": {},
     "output_type": "display_data"
    }
   ],
   "source": [
    "#write down the results into a new netCDF file\n",
    "output = Dataset(\"test_chl3daysJU.nc\",\"c\");\n",
    "defDim(output,\"lon\",size(mask,1))\n",
    "defDim(output,\"lat\",size(mask,2))\n",
    "defDim(output,\"time\",size(sst,3))\n",
    "\n",
    "ncCHL = defVar(output,\"CHL\",Float32,(\"lon\",\"lat\",\"time\");fillvalue=-9999.f0);\n",
    "sst[isnan.(sst)].=-9999.;\n",
    "ncCHL[:] = sst;\n",
    "\n",
    "ncTime = defVar(output,\"time\",Float32,(\"time\",));\n",
    "ncTime[:] = time_in_days;\n",
    "\n",
    "ncMask = defVar(output,\"mask\",Float32,(\"lon\",\"lat\"));\n",
    "ncMask[:] = mask;\n",
    "\n",
    "ncLat = defVar(output,\"lat\",Float32,(\"lat\",));\n",
    "ncLat[:] = lat;\n",
    "\n",
    "ncLon = defVar(output,\"lon\",Float32,(\"lon\",));\n",
    "ncLon[:] = lon;\n",
    "\n",
    "close(output)"
   ]
  },
  {
   "cell_type": "code",
   "execution_count": 23,
   "metadata": {},
   "outputs": [
    {
     "ename": "NCDatasets.NetCDFError",
     "evalue": "NetCDF error: Time units and calendar must be defined during defVar and cannot change (NetCDF error code: -1)",
     "output_type": "error",
     "traceback": [
      "NetCDF error: Time units and calendar must be defined during defVar and cannot change (NetCDF error code: -1)\n",
      "\n",
      "Stacktrace:\n",
      " [1] setindex!(::NCDatasets.CFVariable{Float32,1,NCDatasets.Variable{Float32,1,NCDataset},NCDatasets.Attributes{NCDataset{Nothing}},NamedTuple{(:fillvalue, :scale_factor, :add_offset, :calendar, :time_origin, :time_factor),NTuple{6,Nothing}}}, ::Array{DateTime,1}, ::Colon) at /home/matzuc/.julia/packages/NCDatasets/HhdCu/src/cfvariable.jl:542\n",
      " [2] top-level scope at /mnt/d/Dropbox/R_projects/SV_phenology/R/00.2.6.1.2_DINEOFJuliaConvert.ipynb:19"
     ]
    }
   ],
   "source": [
    "\n",
    "# Create a new NetCDF file\n",
    "output = Dataset(\"test_chl3daysJU.nc\", \"c\")\n",
    "\n",
    "# Define dimensions\n",
    "defDim(output, \"lon\", size(mask, 1))\n",
    "defDim(output, \"lat\", size(mask, 2))\n",
    "defDim(output, \"time\", size(sst, 3))\n",
    "\n",
    "# Define the CHL variable\n",
    "ncCHL = defVar(output, \"CHL\", Float32, (\"lon\", \"lat\", \"time\"), fillvalue=-9999.0f0)\n",
    "sst[isnan.(sst)] .= -9999.0\n",
    "ncCHL[:] = sst\n",
    "\n",
    "# Define the time variable with units and calendar attributes\n",
    "ncTime = defVar(output, \"time\", Float32, (\"time\",))\n",
    "ncTime.attrib[\"units\"] = \"days since 2017-01-01\"\n",
    "ncTime.attrib[\"calendar\"] = \"standard\"\n",
    "ncTime[:] = time\n",
    "\n",
    "# Define the mask variable\n",
    "ncMask = defVar(output, \"mask\", Float32, (\"lon\", \"lat\"))\n",
    "ncMask[:] = mask\n",
    "\n",
    "# Define the latitude variable\n",
    "ncLat = defVar(output, \"lat\", Float32, (\"lat\",))\n",
    "ncLat[:] = lat\n",
    "\n",
    "# Define the longitude variable\n",
    "ncLon = defVar(output, \"lon\", Float32, (\"lon\",))\n",
    "ncLon[:] = lon\n",
    "\n",
    "# Close the NetCDF file\n",
    "close(output)"
   ]
  },
  {
   "cell_type": "code",
   "execution_count": 36,
   "metadata": {},
   "outputs": [
    {
     "name": "stdout",
     "output_type": "stream",
     "text": [
      "file = \"CHLA_prova.nc\"\n",
      "7.66791236810518 % of cloud cover added"
     ]
    },
    {
     "name": "stdout",
     "output_type": "stream",
     "text": [
      "\n"
     ]
    }
   ],
   "source": [
    "#Choose cross-validation points in the form of real clouds\n",
    "#You should run changing last argument until % of added clouds is about 3%\n",
    "#output is in clouds_index.nc, but should be renamed to avoid overwriting it.\n",
    "include(\"/home/DINEOF/Scripts/Julia/dineof_scripts.jl\")\n",
    "dineof_cvp(\"CHLA_prova.nc#SST\",\"CHLA_prova.nc#mask\",\".\",3);"
   ]
  },
  {
   "cell_type": "code",
   "execution_count": 3,
   "metadata": {},
   "outputs": [
    {
     "name": "stdout",
     "output_type": "stream",
     "text": [
      "total 265168\n",
      "-rwxrwxrwx 1 matzuc matzuc      2134 Mar  6 19:26 00.1_monthly_chla_download.knit.md\n",
      "-rwxrwxrwx 1 matzuc matzuc      4738 Mar  8 11:33 00.1_monthly_chla_download.qmd\n",
      "-rwxrwxrwx 1 matzuc matzuc      4930 Mar  9 14:55 00.2.1_monthly_gaps_fill_from_daily.qmd\n",
      "-rwxrwxrwx 1 matzuc matzuc      5109 Mar  9 16:44 00.2.2_monthly_gaps_fill_from_dailyTEST.qmd\n",
      "-rwxrwxrwx 1 matzuc matzuc   1988328 Mar  9 17:55 00.2.3_monthly_gaps_fill_from_daily_TESTaggregation.html\n",
      "-rwxrwxrwx 1 matzuc matzuc   1415900 Mar  9 16:49 00.2.3_monthly_gaps_fill_from_daily_TESTaggregation.ipynb\n",
      "-rwxrwxrwx 1 matzuc matzuc   1395764 Mar 10 17:04 00.2.4.1_test_opendap_accessPyhton.ipynb\n",
      "-rwxrwxrwx 1 matzuc matzuc   1658423 Mar 10 23:42 00.2.4.2_subset_nc.ipynb\n",
      "-rwxrwxrwx 1 matzuc matzuc   4578015 Mar 28 14:22 00.2.4.3_subset_nc_ALL_DAILY.ipynb\n",
      "-rwxrwxrwx 1 matzuc matzuc     40964 Mar 30 16:52 00.2.4.4_subset_nc_ALL_DAILY_coarsened.ipynb\n",
      "-rwxrwxrwx 1 matzuc matzuc   5277470 Mar 31 16:32 00.2.4.6.2_dineof_ready_python.ipynb\n",
      "-rwxrwxrwx 1 matzuc matzuc       295 Mar  9 17:12 00.2.4_dineof_test.jl\n",
      "-rwxrwxrwx 1 matzuc matzuc      4201 Mar 10 14:22 00.2.4_test_open_dap_access.qmd\n",
      "-rwxrwxrwx 1 matzuc matzuc     88748 Mar 13 19:38 00.2.5.1_daily_quadrati.ipynb\n",
      "-rwxrwxrwx 1 matzuc matzuc      2107 Mar 13 19:18 00.2.5_dineof_R.qmd\n",
      "-rwxrwxrwx 1 matzuc matzuc     11705 Mar 28 17:49 00.2.6.1.1_DINEOF_test_preprocessingCHLA_test.ipynb\n",
      "-rwxrwxrwx 1 matzuc matzuc     10073 Mar 28 11:47 00.2.6.1_DINEOF_test_preprocessing.ipynb\n",
      "-rwxrwxrwx 1 matzuc matzuc      4381 Mar  8 16:42 00.2_monthly_chla_download4k.qmd\n",
      "-rwxrwxrwx 1 matzuc matzuc     10709 Mar  8 11:50 00.2_monthly_gaps_fill_from_daily.html\n",
      "-rwxrwxrwx 1 matzuc matzuc       561 Mar  8 11:50 00.2_monthly_gaps_fill_from_daily.knit.md\n",
      "-rwxrwxrwx 1 matzuc matzuc      2174 Mar  9 09:55 00.2_monthly_gaps_fill_from_daily.qmd\n",
      "-rwxrwxrwx 1 matzuc matzuc        51 Mar  8 11:33 00.2_monthly_gaps_fill_from_daily.r\n",
      "drwxrwxrwx 1 matzuc matzuc      4096 Mar  8 11:50 00.2_monthly_gaps_fill_from_daily_files\n",
      "-rwxrwxrwx 1 matzuc matzuc   1018583 Mar  9 17:53 01.0_test_cluster_4k.html\n",
      "-rwxrwxrwx 1 matzuc matzuc    461610 Mar 10 17:04 01.0_test_cluster_4k.ipynb\n",
      "-rwxrwxrwx 1 matzuc matzuc      2097 Mar  9 09:55 01.0_test_cluster_4k.qmd\n",
      "-rwxrwxrwx 1 matzuc matzuc  96320056 Mar 29 10:14 CHLA_prova.nc\n",
      "-rwxrwxrwx 1 matzuc matzuc 154134040 Mar 28 16:14 METEOFRANCE-EUR-SST_L3MULTISENSOR_NRT-OBS_FULL_TIME_SERIE_1634307629210_adriatic_long.nc\n",
      "-rwxrwxrwx 1 matzuc matzuc       208 Mar 10 15:09 \\\\wsl.localhost\\Ubuntu-20.04\\home\\matzuc.cookies\n",
      "-rwxrwxrwx 1 matzuc matzuc   3035712 Mar 29 10:15 clouds_index.nc\n",
      "-rwxrwxrwx 1 matzuc matzuc       331 Mar 28 17:42 sst_L3_Adriatic.nc\n"
     ]
    },
    {
     "data": {
      "text/plain": [
       "Process(`\u001b[4mls\u001b[24m \u001b[4m-l\u001b[24m`, ProcessExited(0))"
      ]
     },
     "metadata": {},
     "output_type": "display_data"
    }
   ],
   "source": [
    "# print directory\n",
    "run(`ls -l`)"
   ]
  },
  {
   "cell_type": "code",
   "execution_count": 11,
   "metadata": {},
   "outputs": [],
   "source": [
    "# change directory to /home/DINEOF\n",
    "cd(\"/home/DINEOF\")"
   ]
  },
  {
   "cell_type": "code",
   "execution_count": 12,
   "metadata": {},
   "outputs": [
    {
     "name": "stdout",
     "output_type": "stream",
     "text": [
      "total 984940\n",
      "-rw-r--r-- 1 root   root   190494888 Mar 29 11:43 CHLA_L4_dineof.nc\n",
      "-rwxr-xr-x 1 root   root    96320056 Mar 29 10:41 CHLA_prova.nc\n",
      "drwxr-xr-x 2 root   root        4096 Mar 28 11:47 Compilers\n",
      "-rw-r--r-- 1 root   root       18046 Mar 28 11:47 LICENSE\n",
      "-rw-r--r-- 1 root   root        3300 Mar 28 11:47 Makefile\n",
      "-rw-r--r-- 1 root   root        2108 Mar 28 11:47 README.md\n",
      "-rw-r--r-- 1 root   root        7368 Mar 28 11:47 ReadMatrix.F90\n",
      "-rw-r--r-- 1 root   root         500 Mar 28 11:47 ReadMatrix.h\n",
      "-rw-r--r-- 1 root   root       17896 Mar 28 16:01 ReadMatrix.o\n",
      "drwxr-xr-x 4 root   root        4096 Mar 28 11:47 Scripts\n",
      "drwxr-xr-x 4 root   root        4096 Mar 28 11:47 SmallExample\n",
      "-rw-r--r-- 1 root   root        2247 Mar 28 11:47 appveyor.yml\n",
      "-rwxr-xr-x 1 root   root     3035712 Mar 29 10:42 clouds_index.nc\n",
      "-rw-r--r-- 1 root   root        3983 Mar 28 15:52 config.mk\n",
      "-rw-r--r-- 1 root   root        3983 Mar 28 11:47 config.mk.template\n",
      "-rw-r--r-- 1 root   root        5879 Mar 28 11:47 crossval.F90\n",
      "-rwxr-xr-x 1 root   root      194144 Mar 28 16:01 dineof\n",
      "-rw-r--r-- 1 root   root       24466 Mar 28 11:47 dineof.F90\n",
      "-rw-r--r-- 1 root   root        3464 Mar 28 11:47 dineof.init\n",
      "-rw-r--r-- 1 root   root       60168 Mar 28 16:01 dineof.o\n",
      "-rw-r--r-- 1 root   root        4236 Mar 28 17:03 dineof_adriatic.init\n",
      "-rw-r--r-- 1 root   root        7201 Mar 28 11:47 dineof_utils.F90\n",
      "-rw-r--r-- 1 root   root        1064 Mar 28 16:01 dineof_utils.mod\n",
      "-rw-r--r-- 1 root   root       19872 Mar 28 16:01 dineof_utils.o\n",
      "drwxr-xr-x 2 root   root        4096 Mar 28 11:47 docs\n",
      "-rw-r--r-- 1 root   root    25408360 Mar 29 11:43 eof.nc\n",
      "drwxr-xr-x 2 root   root        4096 Mar 28 11:47 includes\n",
      "-rw-r--r-- 1 root   root       21644 Mar 28 11:47 initfile.F90\n",
      "-rw-r--r-- 1 root   root        1629 Mar 28 16:01 initfile.mod\n",
      "-rw-r--r-- 1 root   root       30160 Mar 28 16:01 initfile.o\n",
      "drwx------ 2 root   root        4096 Mar 28 15:55 logs\n",
      "-rw-r--r-- 1 root   root        1136 Mar 28 11:47 mod_stat.F90\n",
      "-rw-r--r-- 1 root   root         558 Mar 28 11:47 norm.F90\n",
      "-rw-r--r-- 1 root   root        1800 Mar 28 16:01 norm.o\n",
      "drwxr-xr-x 2 matzuc matzuc      4096 Mar 28 16:56 out\n",
      "-rw-r--r-- 1 root   root        1091 Mar 28 11:47 ppdef.h\n",
      "-rw-r--r-- 1 root   root        4212 Mar 29 11:06 provaCHLA.init\n",
      "-rw-r--r-- 1 root   root        5853 Mar 28 11:47 siterativeEof.f\n",
      "-rw-r--r-- 1 root   root        2391 Mar 28 11:47 smeanByRow.F\n",
      "-rw-r--r-- 1 root   root        1872 Mar 28 16:01 smeanByRow.o\n",
      "-rw-r--r-- 1 root   root        2595 Mar 28 11:47 smeanToZero.F\n",
      "-rw-r--r-- 1 root   root        1352 Mar 28 16:01 smeanToZero.o\n",
      "-rw-r--r-- 1 root   root        3516 Mar 28 11:47 snormal_output.F\n",
      "-rw-r--r-- 1 root   root   120494908 Mar 28 16:17 sst_L3_Adriatic.nc\n",
      "-rw-r--r-- 1 root   root   239839872 Mar 28 17:06 sst_L4_dineof_Adriatic.nc\n",
      "-rw-r--r-- 1 root   root       23701 Mar 28 11:47 ssvd_lancz.F\n",
      "-rw-r--r-- 1 root   root       21720 Mar 28 16:01 ssvd_lancz.o\n",
      "-rw-r--r-- 1 root   root        1339 Mar 28 11:47 stat.F90\n",
      "-rw-r--r-- 1 root   root        3512 Mar 28 16:01 stat.o\n",
      "-rw-r--r-- 1 root   root        2540 Mar 28 11:47 svariExp.F\n",
      "-rw-r--r-- 1 root   root        1832 Mar 28 16:01 svariExp.o\n",
      "-rw-r--r-- 1 root   root        4236 Mar 31 17:20 test_chl3days.init\n",
      "-rwxr-xr-x 1 root   root   332142447 Mar 31 17:22 test_chl3days.nc\n",
      "-rw-r--r-- 1 root   root       58341 Mar 28 11:47 ufileformat.F90\n",
      "-rw-r--r-- 1 root   root        3822 Mar 28 16:01 ufileformat.mod\n",
      "-rw-r--r-- 1 root   root      119616 Mar 28 16:01 ufileformat.o\n",
      "-rw-r--r-- 1 root   root         433 Mar 28 11:47 valsvd.F90\n"
     ]
    },
    {
     "data": {
      "text/plain": [
       "Process(`\u001b[4mls\u001b[24m \u001b[4m-l\u001b[24m`, ProcessExited(0))"
      ]
     },
     "metadata": {},
     "output_type": "display_data"
    }
   ],
   "source": [
    "# print files in current directory\n",
    "run(`ls -l`)"
   ]
  },
  {
   "cell_type": "code",
   "execution_count": 14,
   "metadata": {},
   "outputs": [
    {
     "name": "stdout",
     "output_type": "stream",
     "text": [
      "file = \"/home/DINEOF/test_chl3days.nc\"\n"
     ]
    },
    {
     "ename": "UndefVarError",
     "evalue": "UndefVarError: Dataset not defined",
     "output_type": "error",
     "traceback": [
      "UndefVarError: Dataset not defined\n",
      "\n",
      "Stacktrace:\n",
      " [1] dineof_cvp(::String, ::String, ::String, ::Int64) at /home/DINEOF/Scripts/Julia/dineof_cvp.jl:31\n",
      " [2] top-level scope at /mnt/d/Dropbox/R_projects/SV_phenology/R/00.2.6.1.1_DINEOF_test_preprocessingCHLA_test.ipynb:2"
     ]
    }
   ],
   "source": [
    "include(\"/home/DINEOF/Scripts/Julia/dineof_scripts.jl\")\n",
    "dineof_cvp(\"/home/DINEOF/test_chl3days.nc#CHL\",\"CHLA_prova.nc#mask\",\".\",3);"
   ]
  }
 ],
 "metadata": {
  "kernelspec": {
   "display_name": "Julia 1.4.1",
   "language": "julia",
   "name": "julia-1.4"
  },
  "language_info": {
   "file_extension": ".jl",
   "mimetype": "application/julia",
   "name": "julia",
   "version": "1.4.1"
  }
 },
 "nbformat": 4,
 "nbformat_minor": 2
}
