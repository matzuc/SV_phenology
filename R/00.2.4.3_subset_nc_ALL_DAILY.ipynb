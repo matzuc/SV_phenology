{
 "cells": [
  {
   "attachments": {},
   "cell_type": "markdown",
   "metadata": {},
   "source": [
    "# Provo a ritagliare i file scaricati tramite ftp"
   ]
  },
  {
   "attachments": {},
   "cell_type": "markdown",
   "metadata": {},
   "source": [
    "apro tutti gli nc di ogni mese, li croppo e li salvo nella cartella di lavoro\n"
   ]
  },
  {
   "cell_type": "code",
   "execution_count": 5,
   "metadata": {},
   "outputs": [],
   "source": [
    "# import libraries for working with .nc\n",
    "import xarray as xr\n",
    "import os   \n",
    "\n",
    "\n",
    "\n"
   ]
  },
  {
   "cell_type": "code",
   "execution_count": 6,
   "metadata": {},
   "outputs": [],
   "source": [
    "# origin path\n",
    "\n",
    "path = 'F:/CMEMS/cmems_obs-oc_arc_bgc-plankton_my_l3-multi-1km_P1M/'\n",
    "\n",
    "\n",
    "\n",
    "# destination path\n",
    "outp = 'F:/Dropbox/Dropbox/R_projects/SV_phenology/data/daily/'"
   ]
  },
  {
   "cell_type": "code",
   "execution_count": 7,
   "metadata": {},
   "outputs": [],
   "source": [
    "latmin = 72.0\n",
    "latmax = 85.0\n",
    "lonmin = -5\n",
    "lonmax = 50"
   ]
  },
  {
   "cell_type": "code",
   "execution_count": 8,
   "metadata": {},
   "outputs": [
    {
     "name": "stdout",
     "output_type": "stream",
     "text": [
      "2022 3\n",
      "2022 4\n",
      "2022 5\n",
      "2022 6\n",
      "2022 7\n",
      "2022 8\n",
      "2022 9\n"
     ]
    }
   ],
   "source": [
    "# loop for each year within 1998 and 2022\n",
    "for year in range(1998,2023):\n",
    "    # loop for each month within march and october\n",
    "\n",
    "    # create a folder for each year\n",
    "    #os.mkdir(outp + '{}'.format(year))\n",
    "\n",
    "    for month in range(10, 11):\n",
    "        # temp path concatenate folder for year and month (e.g. 1998/03), with month in two digits\n",
    "        tpath = 'F:/CMEMS/cmems_obs-oc_arc_bgc-plankton_my_l3-multi-1km_P1M/{:04d}/{:02d}'.format(year,month)\n",
    "\n",
    "\n",
    "        # list all files\n",
    "        files = [os.path.join(tpath, f) for f in os.listdir(tpath)]\n",
    "\n",
    "        # use xarray to stack all files in files\n",
    "        ds = xr.open_mfdataset(files, combine='by_coords')\n",
    "\n",
    "        # subset with latitudes \n",
    "        ds_subset = ds.sel(latitude=slice(latmax, latmin), longitude=slice(lonmin, lonmax))\n",
    "\n",
    "        \n",
    "\n",
    "        # subset only CHL values to save\n",
    "        ds_subset = ds_subset['CHL']\n",
    "\n",
    "        # set consistent _FillValue and missing_value attributes for the 'CHL' variable\n",
    "        encoding = {'CHL': {'_FillValue': -999.0, 'missing_value': -999.0}}\n",
    "\n",
    "        # save the subset to a NetCDF file with the updated encoding (nome file= outp + year + 'CHL_03-10_{}_.nc'.format(year))\n",
    "        ds_subset.to_netcdf(outp + '{}'.format(year) + '/CHL_03-10_{}_{}.nc'.format(year, month), encoding=encoding)\n",
    "               \n",
    "\n",
    "\n",
    "        # plot the subset title='CHL_03-10_{}'.format(year) title='CHL_03-10_{}_{}'.format(year, month)\n",
    "        #ds_subset.plot(col='time', col_wrap=4, cmap='viridis', vmin=0, vmax=0.5, size=3, aspect=1.5)\n",
    "\n",
    "\n",
    "        # close the dataset\n",
    "        ds.close()\n",
    "\n",
    "        # close the subset\n",
    "        ds_subset.close()\n",
    "\n",
    "        # print the year and month\n",
    "        print(year, month)\n",
    "        \n",
    "\n",
    "\n",
    "\n",
    "\n",
    " "
   ]
  },
  {
   "cell_type": "markdown",
   "metadata": {},
   "source": []
  }
 ],
 "metadata": {
  "kernelspec": {
   "display_name": "base",
   "language": "python",
   "name": "python3"
  },
  "language_info": {
   "codemirror_mode": {
    "name": "ipython",
    "version": 3
   },
   "file_extension": ".py",
   "mimetype": "text/x-python",
   "name": "python",
   "nbconvert_exporter": "python",
   "pygments_lexer": "ipython3",
   "version": "3.10.6"
  },
  "orig_nbformat": 4
 },
 "nbformat": 4,
 "nbformat_minor": 2
}
