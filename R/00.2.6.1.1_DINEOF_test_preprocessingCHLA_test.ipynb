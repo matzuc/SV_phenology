{
 "cells": [
  {
   "cell_type": "markdown",
   "metadata": {},
   "source": [
    "# DINEOF Preprocessing of data\n",
    "\n",
    "In this script we will:\n",
    "\n",
    "* Read initial data file\n",
    "* Create land-sea mask\n",
    "* Eliminate pixels/images that are too often cloudy\n",
    "* Create time variable\n",
    "* Write results to a new file to be used in DINEOF"
   ]
  },
  {
   "cell_type": "code",
   "execution_count": 3,
   "metadata": {},
   "outputs": [
    {
     "data": {
      "text/plain": [
       "coverage (generic function with 1 method)"
      ]
     },
     "metadata": {},
     "output_type": "display_data"
    }
   ],
   "source": [
    "#import Pkg; Pkg.add(\"Missings\")\n",
    "using NCDatasets\n",
    "#using PyPlot\n",
    "using Missings\n",
    "using Dates\n",
    "using Statistics\n",
    "include(\"/home/DINEOF/Scripts/Julia/dineof_scripts.jl\")"
   ]
  },
  {
   "cell_type": "code",
   "execution_count": 4,
   "metadata": {},
   "outputs": [
    {
     "data": {
      "text/plain": [
       "\"/mnt/d/Dropbox/R_projects/SV_phenology/R\""
      ]
     },
     "metadata": {},
     "output_type": "display_data"
    }
   ],
   "source": [
    "# print current directory\n",
    "pwd()"
   ]
  },
  {
   "cell_type": "code",
   "execution_count": 8,
   "metadata": {},
   "outputs": [
    {
     "data": {
      "text/plain": [
       "false"
      ]
     },
     "metadata": {},
     "output_type": "display_data"
    }
   ],
   "source": [
    "#We will download the data combining current directory with test_coarsened\\CHL_3M_coarsened.nc\"\n",
    "# path = pwd() * \"/data/test_coarsened/\"\n",
    "path = pwd() * \"/data/test_coarsened/\"\n",
    "filename = path * \"CHL_3M_coarsened.nc\";\n",
    "\n",
    "isfile(filename)\n"
   ]
  },
  {
   "cell_type": "code",
   "execution_count": 6,
   "metadata": {},
   "outputs": [
    {
     "ename": "NCDatasets.NetCDFError",
     "evalue": "NetCDF error: Opening path /mnt/d/Dropbox/R_projects/SV_phenology/R/data/test_coarsened/CHL_3M_coarsened.nc: No such file or directory (NetCDF error code: 2)",
     "output_type": "error",
     "traceback": [
      "NetCDF error: Opening path /mnt/d/Dropbox/R_projects/SV_phenology/R/data/test_coarsened/CHL_3M_coarsened.nc: No such file or directory (NetCDF error code: 2)\n",
      "\n",
      "Stacktrace:\n",
      " [1] nc_open(::String, ::UInt16) at /home/matzuc/.julia/packages/NCDatasets/HhdCu/src/netcdf_c.jl:281\n",
      " [2] NCDataset(::String, ::String; format::Symbol, diskless::Bool, persist::Bool, attrib::Array{Any,1}) at /home/matzuc/.julia/packages/NCDatasets/HhdCu/src/dataset.jl:241\n",
      " [3] NCDataset at /home/matzuc/.julia/packages/NCDatasets/HhdCu/src/dataset.jl:226 [inlined] (repeats 2 times)\n",
      " [4] top-level scope at /mnt/d/Dropbox/R_projects/SV_phenology/R/00.2.6.1.1_DINEOF_test_preprocessingCHLA_test.ipynb:5"
     ]
    }
   ],
   "source": [
    "#Reading Sentinel-3A  SST L3 data as downloaded from CMEMS site\n",
    "#ds = Dataset(\"METEOFRANCE-EUR-SST_L3MULTISENSOR_NRT-OBS_FULL_TIME_SERIE_1634307629210_adriatic_long.nc\");\n",
    "\n",
    "#A\n",
    "ds = Dataset(filename);\n",
    "\n",
    "tmp = nomissing(ds[\"CHL\"][:],NaN);\n",
    "sst  = tmp \n",
    "time = ds[\"time\"][:]; \n",
    "lat = ds[\"latitude\"][:];\n",
    "lon = ds[\"longitude\"][:];\n",
    "\n",
    "\n",
    "\n",
    "#Size of SST dataset\n",
    "@show size(tmp)\n",
    "close(ds);"
   ]
  },
  {
   "cell_type": "code",
   "execution_count": null,
   "metadata": {},
   "outputs": [],
   "source": [
    "# We are retaining only ~3 months of data in order to make the run faster (it's just a test...). \n",
    "# But if you want to work with the full 1 year of data, comment the following lines\n",
    "\n",
    "sst = sst[:,:,150:365];\n",
    "tmp = tmp[:,:,150:365];\n",
    "time = time[150:365];"
   ]
  },
  {
   "cell_type": "code",
   "execution_count": null,
   "metadata": {},
   "outputs": [],
   "source": [
    "#Start and end dates of our dataset\n",
    "\n",
    "@show time[1]\n",
    "@show time[end];\n",
    "@show typeof(tmp2)\n",
    "@show typeof(sst);"
   ]
  },
  {
   "cell_type": "code",
   "execution_count": null,
   "metadata": {},
   "outputs": [],
   "source": [
    "#Quick visualisation of one image with and without the removed satellite sensors\n",
    "i=4;\n",
    "figure()\n",
    "pcolor(lon',lat,tmp[:,:,i]'.-273.15,cmap=\"RdYlBu_r\");clim(8,17);colorbar()#(orientation=\"horizontal\");\n",
    "aspect_ratio=1/cos(pi*mean(lat)/180);\n",
    "gca().set_aspect(aspect_ratio);\n",
    "\n",
    "title(\"SST all sensors\")\n",
    "@show(size(sst))\n",
    "\n",
    "figure()\n",
    "pcolor(lon',lat,sst[:,:,i]',cmap=\"RdYlBu_r\");clim(8,17);colorbar()#(orientation=\"horizontal\")\n",
    "aspect_ratio=1/cos(pi*mean(lat)/180);\n",
    "gca().set_aspect(aspect_ratio);\n",
    "\n",
    "title(\"SST $(time[i])\")\n",
    "@show size(sst);\n"
   ]
  },
  {
   "cell_type": "code",
   "execution_count": null,
   "metadata": {},
   "outputs": [],
   "source": [
    "#The domain contains regions (Tyrrhenian Sea, Ionian Sea) that are not of interest for us\n",
    "pcolor(sst[:,:,92]',cmap=\"RdYlBu_r\");clim(18,28);colorbar();"
   ]
  },
  {
   "cell_type": "code",
   "execution_count": null,
   "metadata": {},
   "outputs": [],
   "source": [
    "# We will remove any sea part that is not our zone of interest\n",
    "# with a \"low-tech\" approach; just choose those regions by their indices (trial and error)\n",
    "sst[1:205,1:125,:].=NaN;\n",
    "sst[1:50,100:160,:].=NaN;\n",
    "sst[200:275,1:78,:].=NaN;\n",
    "sst[275:300,1:70,:].=NaN;\n",
    "sst[300:401,1:60,:].=NaN;\n",
    "pcolor(sst[:,:,92]',cmap=\"RdYlBu_r\");clim(18,28);colorbar();"
   ]
  },
  {
   "cell_type": "code",
   "execution_count": null,
   "metadata": {},
   "outputs": [],
   "source": [
    "#transform time variable (in miliseconds) into year-day \n",
    "mdate = Dates.value.(time - DateTime(2017,1,1))/1000/60/60/24;\n",
    "\n",
    "#create a first land-sea mask. This mask will be \"refined\" by eliminating pixels that are \n",
    "# covered more than 98% of the time and images that are covered more than 98% in space\n",
    "mask = nanmean(sst,3);\n",
    "mask[.!isnan.(mask)].=1;\n",
    "mask[isnan.(mask)].=0;\n",
    "\n",
    "covT = coverage(sst,mask,\"tm\"); #calculate average % of missing data in time\n",
    "\n",
    "#Visualise % of missing data in time\n",
    "plot(covT)\n",
    "println(\"Average amount of missing data in your dataset: $(mean(covT)) %\");"
   ]
  },
  {
   "cell_type": "code",
   "execution_count": null,
   "metadata": {},
   "outputs": [],
   "source": [
    "#There are images with almost no data. We will eliminate those\n",
    "\n",
    "i=findall(covT.<98); #identify images with more than 95% of missing data\n",
    "sstb = sst[:,:,i]; #remove those images\n",
    "mdateb = mdate[i]; #remove those dates from the time vector\n",
    "\n",
    "#old and new temporal size of the SST matrix\n",
    "@show(size(sst))\n",
    "@show size(sstb);"
   ]
  },
  {
   "cell_type": "code",
   "execution_count": null,
   "metadata": {
    "scrolled": false
   },
   "outputs": [],
   "source": [
    "#We will now do a land-sea mask by finding values with no data (=land)\n",
    "\n",
    "maskb = nanmean(sstb,3); #new mask with the new matrix\n",
    "maskb[.!isnan.(maskb)].=1; #non-missing data to sea\n",
    "maskb[isnan.(maskb)].=0; #missing data to land\n",
    "@show size(maskb)\n",
    "covS = coverage(sstb,maskb,\"sp\");  #calculate average % of missing data in space\n",
    "\n",
    "#Visualise the % of missing data in space\n",
    "pcolor(lon',lat,covS'),clim(50,100),colorbar()#(orientation=\"horizontal\");\n",
    "aspect_ratio=1/cos(pi*mean(lat)/180);\n",
    "gca().set_aspect(aspect_ratio);\n"
   ]
  },
  {
   "cell_type": "markdown",
   "metadata": {},
   "source": [
    "The regions most affected by missing data are the coastal ones, especially along the Croatian coast due to the large amount of islands."
   ]
  },
  {
   "cell_type": "code",
   "execution_count": null,
   "metadata": {},
   "outputs": [],
   "source": [
    "#maximum value of missing data \n",
    "\n",
    "extrema(covS)"
   ]
  },
  {
   "cell_type": "code",
   "execution_count": null,
   "metadata": {},
   "outputs": [],
   "source": [
    "#As we did with the spatial average amount of missing data, we will now remove points that are missing >98% of the time\n",
    "\n",
    "covS[covS.>=98].=0; #if a pixel is missing more than 98% of the time we set that to land\n",
    "@show extrema(covS)\n",
    "\n",
    "#the map showing % of missing data will be transformed in the final land-sea mask\n",
    "covS[covS.==0].=NaN;\n",
    "\n",
    "covS[.!isnan.(covS)].=1; #non-missing data to sea\n",
    "\n",
    "covS[isnan.(covS)].=0; #missing data to land\n",
    "\n",
    "\n",
    "#Land-sea mask\n",
    "pcolor(lon',lat,covS',cmap=\"RdYlBu_r\");colorbar()\n",
    "aspect_ratio=1/cos(pi*mean(lat)/180);\n",
    "gca().set_aspect(aspect_ratio);\n"
   ]
  },
  {
   "cell_type": "code",
   "execution_count": null,
   "metadata": {},
   "outputs": [],
   "source": [
    "#We visualise a last example\n",
    "contourf(lon',lat,covS',levels = [0., 0.5],colors =[[.5,.5,.5]])\n",
    "pcolor(lon',lat,sstb[:,:,92]',cmap=\"RdYlBu_r\");clim(18,28),colorbar()#(orientation=\"horizontal\")\n",
    "ylim(40,46)\n",
    "aspect_ratio=1/cos(pi*mean(lat)/180);\n",
    "gca().set_aspect(aspect_ratio);\n"
   ]
  },
  {
   "cell_type": "code",
   "execution_count": 14,
   "metadata": {},
   "outputs": [
    {
     "ename": "UndefVarError",
     "evalue": "UndefVarError: maskb not defined",
     "output_type": "error",
     "traceback": [
      "UndefVarError: maskb not defined\n",
      "\n",
      "Stacktrace:\n",
      " [1] top-level scope at /mnt/d/Dropbox/R_projects/SV_phenology/R/00.2.6.1_DINEOF_test_preprocessing.ipynb:3"
     ]
    }
   ],
   "source": [
    "#write down the results into a new netCDF file\n",
    "output = Dataset(\"sst_L3_Adriatic.nc\",\"c\");\n",
    "defDim(output,\"lon\",size(maskb,1))\n",
    "defDim(output,\"lat\",size(maskb,2))\n",
    "defDim(output,\"time\",size(sstb,3))\n",
    "\n",
    "ncCHL = defVar(output,\"SST\",Float32,(\"lon\",\"lat\",\"time\");fillvalue=-9999.f0);\n",
    "sstb[isnan.(sstb)].=-9999.;\n",
    "ncCHL[:] = sstb;\n",
    "\n",
    "ncTime = defVar(output,\"time\",Float32,(\"time\",));\n",
    "ncTime[:] = mdateb;\n",
    "\n",
    "ncMask = defVar(output,\"mask\",Float32,(\"lon\",\"lat\"));\n",
    "ncMask[:] = covS;\n",
    "\n",
    "ncLat = defVar(output,\"lat\",Float32,(\"lat\",));\n",
    "ncLat[:] = lat;\n",
    "\n",
    "ncLon = defVar(output,\"lon\",Float32,(\"lon\",));\n",
    "ncLon[:] = lon;\n",
    "\n",
    "close(output)"
   ]
  },
  {
   "cell_type": "code",
   "execution_count": null,
   "metadata": {},
   "outputs": [],
   "source": [
    "#Choose cross-validation points in the form of real clouds\n",
    "#You should run changing last argument until % of added clouds is about 3%\n",
    "#output is in clouds_index.nc, but should be renamed to avoid overwriting it.\n",
    "include(\"dineof_scripts.jl\")\n",
    "dineof_cvp(\"sst_L3_Adriatic.nc#SST\",\"sst_L3_Adriatic.nc#mask\",\".\",3);"
   ]
  }
 ],
 "metadata": {
  "kernelspec": {
   "display_name": "Julia 1.4.1",
   "language": "julia",
   "name": "julia-1.4"
  },
  "language_info": {
   "file_extension": ".jl",
   "mimetype": "application/julia",
   "name": "julia",
   "version": "1.4.1"
  }
 },
 "nbformat": 4,
 "nbformat_minor": 2
}
